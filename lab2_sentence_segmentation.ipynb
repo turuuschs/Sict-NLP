{
  "nbformat": 4,
  "nbformat_minor": 0,
  "metadata": {
    "colab": {
      "name": "lab2-sentence-segmentation.ipynb",
      "provenance": [],
      "collapsed_sections": [],
      "authorship_tag": "ABX9TyPrnHniE6VDxNDm4gp8rODW",
      "include_colab_link": true
    },
    "kernelspec": {
      "name": "python3",
      "display_name": "Python 3"
    }
  },
  "cells": [
    {
      "cell_type": "markdown",
      "metadata": {
        "id": "view-in-github",
        "colab_type": "text"
      },
      "source": [
        "<a href=\"https://colab.research.google.com/github/turuuschs/Sict-NLP/blob/master/lab2_sentence_segmentation.ipynb\" target=\"_parent\"><img src=\"https://colab.research.google.com/assets/colab-badge.svg\" alt=\"Open In Colab\"/></a>"
      ]
    },
    {
      "cell_type": "markdown",
      "metadata": {
        "id": "iLcNCPjqN1q2",
        "colab_type": "text"
      },
      "source": [
        "## Stanford-ийн эх хэлний сан"
      ]
    },
    {
      "cell_type": "code",
      "metadata": {
        "id": "x4NJKef62LdP",
        "colab_type": "code",
        "colab": {}
      },
      "source": [
        "!pip install stanfordnlp\n",
        "import stanfordnlp"
      ],
      "execution_count": 0,
      "outputs": []
    },
    {
      "cell_type": "code",
      "metadata": {
        "id": "iJAp4uRf0RNC",
        "colab_type": "code",
        "colab": {}
      },
      "source": [
        "# Уншсан болон дагаж хийсэн эх сурвалж:\n",
        "# https://stanfordnlp.github.io/stanfordnlp/tokenize.html\n",
        "# https://github.com/stanfordnlp/stanfordnlp/blob/master/stanfordnlp/pipeline/doc.py\n",
        "\n",
        "stanfordnlp.download('en')\n",
        "nlp = stanfordnlp.Pipeline()"
      ],
      "execution_count": 0,
      "outputs": []
    },
    {
      "cell_type": "code",
      "metadata": {
        "id": "AgBJqN7vRmDU",
        "colab_type": "code",
        "colab": {
          "base_uri": "https://localhost:8080/",
          "height": 88
        },
        "outputId": "0e7751af-c434-48ee-92da-a15a91ecc30c"
      },
      "source": [
        "doc = nlp(\"2-r lab    buguud ehnii   uguulbur bolno. Mun hoerdoh    uguulbur hewlej bn!\")\n",
        "ind = 1\n",
        "for sentence in doc.sentences:\n",
        "  out_text = \" \".join(item.text for item in sentence.words)\n",
        "  print(f\"{ind}-р өгүүлбэр:\", out_text)\n",
        "  ind += 1"
      ],
      "execution_count": 3,
      "outputs": [
        {
          "output_type": "stream",
          "text": [
            "1-р өгүүлбэр: 2 - r lab buguud ehnii uguulbur bolno .\n",
            "2-р өгүүлбэр: Mun hoerdoh uguulbur hewlej bn !\n"
          ],
          "name": "stdout"
        },
        {
          "output_type": "stream",
          "text": [
            "/pytorch/aten/src/ATen/native/LegacyDefinitions.cpp:19: UserWarning: masked_fill_ received a mask with dtype torch.uint8, this behavior is now deprecated,please use a mask with dtype torch.bool instead.\n"
          ],
          "name": "stderr"
        }
      ]
    }
  ]
}