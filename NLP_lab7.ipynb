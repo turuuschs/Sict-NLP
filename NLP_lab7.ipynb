{
  "nbformat": 4,
  "nbformat_minor": 0,
  "metadata": {
    "colab": {
      "name": "NLP lab7",
      "provenance": [],
      "collapsed_sections": [],
      "authorship_tag": "ABX9TyNWFyBLpLYcT9ED+P9Sqi5f",
      "include_colab_link": true
    },
    "kernelspec": {
      "name": "python3",
      "display_name": "Python 3"
    }
  },
  "cells": [
    {
      "cell_type": "markdown",
      "metadata": {
        "id": "view-in-github",
        "colab_type": "text"
      },
      "source": [
        "<a href=\"https://colab.research.google.com/github/turuuschs/Sict-NLP/blob/master/NLP_lab7.ipynb\" target=\"_parent\"><img src=\"https://colab.research.google.com/assets/colab-badge.svg\" alt=\"Open In Colab\"/></a>"
      ]
    },
    {
      "cell_type": "code",
      "metadata": {
        "id": "OGXGdKiWqw-m",
        "colab_type": "code",
        "colab": {}
      },
      "source": [
        "import re"
      ],
      "execution_count": 0,
      "outputs": []
    },
    {
      "cell_type": "markdown",
      "metadata": {
        "id": "i0g5p0ErzsZU",
        "colab_type": "text"
      },
      "source": [
        "# 1. 16тийн тоо таних\n",
        "\n"
      ]
    },
    {
      "cell_type": "code",
      "metadata": {
        "id": "9j_6LERIrBVe",
        "colab_type": "code",
        "colab": {
          "base_uri": "https://localhost:8080/",
          "height": 306
        },
        "outputId": "daae69d7-ab7d-4ee8-bbd0-6cd3d7519e36"
      },
      "source": [
        "words = [\n",
        "  \"0xAB982\",\n",
        "  \"S55747\",\n",
        "  \"C1DB2\",\n",
        "  \"0xFWQR76ED\",\n",
        "  \"0x613C0\",\n",
        "  \"A59E1\",\n",
        "  \"LQ0x74C97\",\n",
        "  \"0x50879\",\n",
        "  \"1E3DE\",\n",
        "  \"0x726FE\",\n",
        "  \"28FF\",\n",
        "  \"0x1A2E3\",\n",
        "  \"0x49A\",\n",
        "  \"0F8B\",\n",
        "  \"0x2B292\",\n",
        "  \"0PZ214\",\n",
        "  \"0x4FED5\",\n",
        "]\n",
        "for word in words:\n",
        "  result = re.match('^(0x)?[0-9A-F]+$', word)\n",
        "  if result is None:\n",
        "    print (\"~ Биш:\", word)\n",
        "  else:\n",
        "    print (\"~ Мөн:\", result.group())"
      ],
      "execution_count": 6,
      "outputs": [
        {
          "output_type": "stream",
          "text": [
            "~ Мөн: 0xAB982\n",
            "~ Биш: S55747\n",
            "~ Мөн: C1DB2\n",
            "~ Биш: 0xFWQR76ED\n",
            "~ Мөн: 0x613C0\n",
            "~ Мөн: A59E1\n",
            "~ Биш: LQ0x74C97\n",
            "~ Мөн: 0x50879\n",
            "~ Мөн: 1E3DE\n",
            "~ Мөн: 0x726FE\n",
            "~ Мөн: 28FF\n",
            "~ Мөн: 0x1A2E3\n",
            "~ Мөн: 0x49A\n",
            "~ Мөн: 0F8B\n",
            "~ Мөн: 0x2B292\n",
            "~ Биш: 0PZ214\n",
            "~ Мөн: 0x4FED5\n"
          ],
          "name": "stdout"
        }
      ]
    },
    {
      "cell_type": "markdown",
      "metadata": {
        "id": "MwUuYSsL2ca2",
        "colab_type": "text"
      },
      "source": [
        "# 2. Цэгээр хураасан үг\n",
        "###  (цэгийн өмнө ХИ-дээ 4 үсэг)"
      ]
    },
    {
      "cell_type": "code",
      "metadata": {
        "id": "lz2V1jBb2hyN",
        "colab_type": "code",
        "outputId": "fc1445b4-8158-49e8-eb10-8fb4d432de9c",
        "colab": {
          "base_uri": "https://localhost:8080/",
          "height": 272
        }
      },
      "source": [
        "words = [\n",
        "  \"Монго.л\",\n",
        "  \"Улсд.\",\n",
        "  \".татвар\",\n",
        "  \"төл.дөг\",\n",
        "  \"108.\",\n",
        "  \"мянган\",\n",
        "  \"ААН\",\n",
        "  \"бий.\",\n",
        "  \"Тэдний\",\n",
        "  \"99.99\",\n",
        "  \"хувь.\",\n",
        "  \"зургаан\",\n",
        "  \"сар\",\n",
        "  \".НДШ\",\n",
        "  \"төлөхгүй.\",\n",
        "]\n",
        "for word in words:\n",
        "  result = re.match('^[ФфЦцУуЖжЭэНнГгШшҮүЗзКкЪъЕеЩщЙйЫыБбӨөАаХхРрОоЛлДдПпЯяЧчЁёСсМмИиТтЬьВвЮю]{1,4}[.]+$', word)\n",
        "  if result is None:\n",
        "    print (\"~ Биш:\", word)\n",
        "  else:\n",
        "    print (\"~ Мөн:\", result.group())"
      ],
      "execution_count": 7,
      "outputs": [
        {
          "output_type": "stream",
          "text": [
            "~ Биш: Монго.л\n",
            "~ Мөн: Улсд.\n",
            "~ Биш: .татвар\n",
            "~ Биш: төл.дөг\n",
            "~ Биш: 108.\n",
            "~ Биш: мянган\n",
            "~ Биш: ААН\n",
            "~ Мөн: бий.\n",
            "~ Биш: Тэдний\n",
            "~ Биш: 99.99\n",
            "~ Мөн: хувь.\n",
            "~ Биш: зургаан\n",
            "~ Биш: сар\n",
            "~ Биш: .НДШ\n",
            "~ Биш: төлөхгүй.\n"
          ],
          "name": "stdout"
        }
      ]
    }
  ]
}