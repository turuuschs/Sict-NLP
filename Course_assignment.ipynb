{
  "nbformat": 4,
  "nbformat_minor": 0,
  "metadata": {
    "colab": {
      "name": "Course assignment.ipynb",
      "provenance": [],
      "collapsed_sections": [],
      "toc_visible": true,
      "authorship_tag": "ABX9TyNm3rPH89vjGDJ6eFdAFnAS",
      "include_colab_link": true
    },
    "kernelspec": {
      "name": "python3",
      "display_name": "Python 3"
    },
    "accelerator": "TPU"
  },
  "cells": [
    {
      "cell_type": "markdown",
      "metadata": {
        "id": "view-in-github",
        "colab_type": "text"
      },
      "source": [
        "<a href=\"https://colab.research.google.com/github/turuuschs/Sict-NLP/blob/master/Course_assignment.ipynb\" target=\"_parent\"><img src=\"https://colab.research.google.com/assets/colab-badge.svg\" alt=\"Open In Colab\"/></a>"
      ]
    },
    {
      "cell_type": "markdown",
      "metadata": {
        "id": "FzutHJNnHJhr",
        "colab_type": "text"
      },
      "source": [
        "# Бичвэр ангилал"
      ]
    },
    {
      "cell_type": "markdown",
      "metadata": {
        "id": "hCxv4gF-HOpt",
        "colab_type": "text"
      },
      "source": [
        "## Шаардлагатай сангууд"
      ]
    },
    {
      "cell_type": "code",
      "metadata": {
        "id": "YTH95oEDGimg",
        "colab_type": "code",
        "colab": {}
      },
      "source": [
        "import pandas as pd\n",
        "import numpy as np\n",
        "from sklearn.naive_bayes import MultinomialNB\n",
        "from sklearn.feature_extraction.text import CountVectorizer\n",
        "from sklearn.model_selection import train_test_split\n",
        "from sklearn.metrics import accuracy_score\n",
        "from sklearn.metrics import confusion_matrix\n",
        "import re"
      ],
      "execution_count": 0,
      "outputs": []
    },
    {
      "cell_type": "markdown",
      "metadata": {
        "id": "kYXaOCNHHWC5",
        "colab_type": "text"
      },
      "source": [
        "## Дата"
      ]
    },
    {
      "cell_type": "code",
      "metadata": {
        "id": "7QUSic6yHaiJ",
        "colab_type": "code",
        "colab": {
          "base_uri": "https://localhost:8080/",
          "height": 359
        },
        "outputId": "9a044655-594f-4d31-ee74-ce6e756a6f27"
      },
      "source": [
        "data = pd.read_csv(\"mongolian_news.csv\",encoding='UTF-8')\n",
        "data = data[['CATEGORY','TITLE']]\n",
        "data.CATEGORY.unique()\n",
        "data.groupby('CATEGORY').describe()"
      ],
      "execution_count": 21,
      "outputs": [
        {
          "output_type": "execute_result",
          "data": {
            "text/html": [
              "<div>\n",
              "<style scoped>\n",
              "    .dataframe tbody tr th:only-of-type {\n",
              "        vertical-align: middle;\n",
              "    }\n",
              "\n",
              "    .dataframe tbody tr th {\n",
              "        vertical-align: top;\n",
              "    }\n",
              "\n",
              "    .dataframe thead tr th {\n",
              "        text-align: left;\n",
              "    }\n",
              "\n",
              "    .dataframe thead tr:last-of-type th {\n",
              "        text-align: right;\n",
              "    }\n",
              "</style>\n",
              "<table border=\"1\" class=\"dataframe\">\n",
              "  <thead>\n",
              "    <tr>\n",
              "      <th></th>\n",
              "      <th colspan=\"4\" halign=\"left\">TITLE</th>\n",
              "    </tr>\n",
              "    <tr>\n",
              "      <th></th>\n",
              "      <th>count</th>\n",
              "      <th>unique</th>\n",
              "      <th>top</th>\n",
              "      <th>freq</th>\n",
              "    </tr>\n",
              "    <tr>\n",
              "      <th>CATEGORY</th>\n",
              "      <th></th>\n",
              "      <th></th>\n",
              "      <th></th>\n",
              "      <th></th>\n",
              "    </tr>\n",
              "  </thead>\n",
              "  <tbody>\n",
              "    <tr>\n",
              "      <th>2. Нийгмийн тэнцвэрт байдал</th>\n",
              "      <td>1</td>\n",
              "      <td>1</td>\n",
              "      <td>. Өсөлт</td>\n",
              "      <td>1</td>\n",
              "    </tr>\n",
              "    <tr>\n",
              "      <th>Дэлхий</th>\n",
              "      <td>4952</td>\n",
              "      <td>4940</td>\n",
              "      <td>Нийслэлийн ЗДТГ-ын Хэвлэл мэдээлэлтэй харилцах...</td>\n",
              "      <td>5</td>\n",
              "    </tr>\n",
              "    <tr>\n",
              "      <th>Нийгэм</th>\n",
              "      <td>8184</td>\n",
              "      <td>7919</td>\n",
              "      <td>Нийслэлийн ЗДТГ-ын Хэвлэл мэдээлэлтэй харилцах...</td>\n",
              "      <td>58</td>\n",
              "    </tr>\n",
              "    <tr>\n",
              "      <th>Спорт</th>\n",
              "      <td>4946</td>\n",
              "      <td>4917</td>\n",
              "      <td>Нийслэлийн ЗДТГ-ын Хэвлэл мэдээлэлтэй харилцах...</td>\n",
              "      <td>10</td>\n",
              "    </tr>\n",
              "    <tr>\n",
              "      <th>Улс төр</th>\n",
              "      <td>11436</td>\n",
              "      <td>10998</td>\n",
              "      <td>УИХ-ын Хэвлэл мэдээлэл, олон нийттэй харилцах ...</td>\n",
              "      <td>21</td>\n",
              "    </tr>\n",
              "    <tr>\n",
              "      <th>Шар мэдээ</th>\n",
              "      <td>3867</td>\n",
              "      <td>3859</td>\n",
              "      <td>Нийслэлийн ЗДТГ-ын Хэвлэл мэдээлэлтэй харилцах...</td>\n",
              "      <td>5</td>\n",
              "    </tr>\n",
              "    <tr>\n",
              "      <th>Эдийн засаг</th>\n",
              "      <td>8986</td>\n",
              "      <td>8117</td>\n",
              "      <td>ЭРХЭМ ТА БҮХНИЙГ 3 ДУГААР ЭЭЛЖИЙН БҮРЭН ШИНЭЧЛ...</td>\n",
              "      <td>20</td>\n",
              "    </tr>\n",
              "    <tr>\n",
              "      <th>Энтертайнмент</th>\n",
              "      <td>8248</td>\n",
              "      <td>8193</td>\n",
              "      <td>Нийслэлийн ЗДТГ-ын Хэвлэл мэдээлэлтэй харилцах...</td>\n",
              "      <td>6</td>\n",
              "    </tr>\n",
              "  </tbody>\n",
              "</table>\n",
              "</div>"
            ],
            "text/plain": [
              "                                 TITLE  ...     \n",
              "                                 count  ... freq\n",
              "CATEGORY                                ...     \n",
              " 2. Нийгмийн тэнцвэрт байдал      1  ...    1\n",
              "Дэлхий                            4952  ...    5\n",
              "Нийгэм                            8184  ...   58\n",
              "Спорт                             4946  ...   10\n",
              "Улс төр                          11436  ...   21\n",
              "Шар мэдээ                         3867  ...    5\n",
              "Эдийн засаг                       8986  ...   20\n",
              "Энтертайнмент                     8248  ...    6\n",
              "\n",
              "[8 rows x 4 columns]"
            ]
          },
          "metadata": {
            "tags": []
          },
          "execution_count": 21
        }
      ]
    },
    {
      "cell_type": "markdown",
      "metadata": {
        "id": "L7uwPeglIlVF",
        "colab_type": "text"
      },
      "source": [
        "## Мэдээний ангилалуудаа тоон утгаар кодлов"
      ]
    },
    {
      "cell_type": "code",
      "metadata": {
        "id": "O96nwzXKIqfx",
        "colab_type": "code",
        "colab": {
          "base_uri": "https://localhost:8080/",
          "height": 204
        },
        "outputId": "0a52ea6e-b214-4030-883b-b0c88dee8497"
      },
      "source": [
        "data['NUM_CATEGORY']= data.CATEGORY.map({\n",
        "    'Дэлхий': 0,\n",
        "    'Нийгэм': 1,\n",
        "    'Спорт': 2,\n",
        "    'Улс төр': 3,\n",
        "    'Шар мэдээ': 4,\n",
        "    'Эдийн засаг': 5,\n",
        "    'Энтертайнмент': 6,\n",
        "})\n",
        "data.head()"
      ],
      "execution_count": 22,
      "outputs": [
        {
          "output_type": "execute_result",
          "data": {
            "text/html": [
              "<div>\n",
              "<style scoped>\n",
              "    .dataframe tbody tr th:only-of-type {\n",
              "        vertical-align: middle;\n",
              "    }\n",
              "\n",
              "    .dataframe tbody tr th {\n",
              "        vertical-align: top;\n",
              "    }\n",
              "\n",
              "    .dataframe thead th {\n",
              "        text-align: right;\n",
              "    }\n",
              "</style>\n",
              "<table border=\"1\" class=\"dataframe\">\n",
              "  <thead>\n",
              "    <tr style=\"text-align: right;\">\n",
              "      <th></th>\n",
              "      <th>CATEGORY</th>\n",
              "      <th>TITLE</th>\n",
              "      <th>NUM_CATEGORY</th>\n",
              "    </tr>\n",
              "  </thead>\n",
              "  <tbody>\n",
              "    <tr>\n",
              "      <th>0</th>\n",
              "      <td>Улс төр</td>\n",
              "      <td>УИХ-ын Төсвийн байнгын хорооны хуралдаанаар өн...</td>\n",
              "      <td>3.0</td>\n",
              "    </tr>\n",
              "    <tr>\n",
              "      <th>1</th>\n",
              "      <td>Улс төр</td>\n",
              "      <td>Төрийн аудитын хуулийн шинэчилсэн найруулгын т...</td>\n",
              "      <td>3.0</td>\n",
              "    </tr>\n",
              "    <tr>\n",
              "      <th>2</th>\n",
              "      <td>Улс төр</td>\n",
              "      <td>Улсын Их Хурлын гишүүн Л.Энх-Амгалан нарын 7 г...</td>\n",
              "      <td>3.0</td>\n",
              "    </tr>\n",
              "    <tr>\n",
              "      <th>3</th>\n",
              "      <td>Улс төр</td>\n",
              "      <td>анхны хэлэлцүүлгийг хийв.  Төслийн талаар гишү...</td>\n",
              "      <td>3.0</td>\n",
              "    </tr>\n",
              "    <tr>\n",
              "      <th>4</th>\n",
              "      <td>Улс төр</td>\n",
              "      <td>Аудитын байгууллагын өнөөгийн хүчин чадал, нөө...</td>\n",
              "      <td>3.0</td>\n",
              "    </tr>\n",
              "  </tbody>\n",
              "</table>\n",
              "</div>"
            ],
            "text/plain": [
              "  CATEGORY                                              TITLE  NUM_CATEGORY\n",
              "0  Улс төр  УИХ-ын Төсвийн байнгын хорооны хуралдаанаар өн...           3.0\n",
              "1  Улс төр  Төрийн аудитын хуулийн шинэчилсэн найруулгын т...           3.0\n",
              "2  Улс төр  Улсын Их Хурлын гишүүн Л.Энх-Амгалан нарын 7 г...           3.0\n",
              "3  Улс төр  анхны хэлэлцүүлгийг хийв.  Төслийн талаар гишү...           3.0\n",
              "4  Улс төр  Аудитын байгууллагын өнөөгийн хүчин чадал, нөө...           3.0"
            ]
          },
          "metadata": {
            "tags": []
          },
          "execution_count": 22
        }
      ]
    },
    {
      "cell_type": "code",
      "metadata": {
        "id": "FkVCBH8bIxjj",
        "colab_type": "code",
        "colab": {}
      },
      "source": [
        "data = data[data['TITLE'].notnull()]\n",
        "data = data[data['NUM_CATEGORY'].notnull()]"
      ],
      "execution_count": 0,
      "outputs": []
    },
    {
      "cell_type": "markdown",
      "metadata": {
        "id": "HYdjpu5AIyP6",
        "colab_type": "text"
      },
      "source": [
        "## Сургалт, тестийн дата харьцаа 80/20"
      ]
    },
    {
      "cell_type": "code",
      "metadata": {
        "id": "B4hTvBNlI7r4",
        "colab_type": "code",
        "colab": {}
      },
      "source": [
        "x_train, x_test, y_train, y_test = train_test_split(data.TITLE, data.NUM_CATEGORY, test_size = 0.2, random_state=0)"
      ],
      "execution_count": 0,
      "outputs": []
    },
    {
      "cell_type": "markdown",
      "metadata": {
        "id": "CZD_n2DsJAlG",
        "colab_type": "text"
      },
      "source": [
        "## Bigram модел ашиглан Bag of Word вектор үүсгэв "
      ]
    },
    {
      "cell_type": "code",
      "metadata": {
        "id": "lz37dDLOJDcX",
        "colab_type": "code",
        "colab": {}
      },
      "source": [
        "vect = CountVectorizer(ngram_range=(2,2))\n",
        "X_train = vect.fit_transform(x_train)\n",
        "xTrain = np.array(X_train)\n",
        "X_test = vect.transform(x_test)"
      ],
      "execution_count": 0,
      "outputs": []
    },
    {
      "cell_type": "markdown",
      "metadata": {
        "id": "PuN39uf9KGmw",
        "colab_type": "text"
      },
      "source": [
        "## Сургалт ба тест"
      ]
    },
    {
      "cell_type": "code",
      "metadata": {
        "id": "rpow011mKN-J",
        "colab_type": "code",
        "colab": {}
      },
      "source": [
        "mnb = MultinomialNB(alpha=0.2)\n",
        "mnb.fit(X_train,y_train)\n",
        "result = mnb.predict(X_test)"
      ],
      "execution_count": 0,
      "outputs": []
    },
    {
      "cell_type": "markdown",
      "metadata": {
        "id": "2is7a02_M67v",
        "colab_type": "text"
      },
      "source": [
        "## Моделийн үр дүн"
      ]
    },
    {
      "cell_type": "code",
      "metadata": {
        "id": "GM5DKklIM5jK",
        "colab_type": "code",
        "colab": {
          "base_uri": "https://localhost:8080/",
          "height": 153
        },
        "outputId": "343af19e-10e8-41b9-e721-2d5153d623e4"
      },
      "source": [
        "print (accuracy_score(result,y_test))\n",
        "print (confusion_matrix(y_test, result))"
      ],
      "execution_count": 27,
      "outputs": [
        {
          "output_type": "stream",
          "text": [
            "0.7113789016199131\n",
            "[[ 694   78   11   41   38   48   47]\n",
            " [  91 1118    5  195   33  109   72]\n",
            " [  36   40  753   36   32   19   64]\n",
            " [  37  143    6 1829   26  167   63]\n",
            " [ 114   63   45  150  241   33  167]\n",
            " [  54  107    9  202   32 1332   73]\n",
            " [  84   71   35   84  104   58 1235]]\n"
          ],
          "name": "stdout"
        }
      ]
    },
    {
      "cell_type": "markdown",
      "metadata": {
        "id": "Gmta_Hd-NJMF",
        "colab_type": "text"
      },
      "source": [
        "# Тест\n",
        "## Текст олборлосон сайтаас өөр сайтаас мэдээ тестлэж үзэв."
      ]
    },
    {
      "cell_type": "code",
      "metadata": {
        "id": "RpCV7WfqNLig",
        "colab_type": "code",
        "colab": {}
      },
      "source": [
        "def predict_news(news):\n",
        "    test = vect.transform(news)\n",
        "    pred = mnb.predict(test)\n",
        "    if pred == 0:\n",
        "      return 'Дэлхий'\n",
        "    if pred == 1:\n",
        "      return 'Нийгэм'\n",
        "    if pred == 2:\n",
        "      return 'Спорт'\n",
        "    if pred == 3:\n",
        "      return 'Улс төр'\n",
        "    if pred == 4:\n",
        "      return 'Шар мэдээ'\n",
        "    if pred == 5:\n",
        "      return 'Эдийн засаг'\n",
        "    if pred == 6:\n",
        "      return 'Энтертайнмент'"
      ],
      "execution_count": 0,
      "outputs": []
    },
    {
      "cell_type": "code",
      "metadata": {
        "id": "-8Q9oW4LOdcz",
        "colab_type": "code",
        "colab": {
          "base_uri": "https://localhost:8080/",
          "height": 34
        },
        "outputId": "73746823-84ad-4e1e-a6ea-4986f7b7c391"
      },
      "source": [
        "x = [\"НҮБ-ын харьяа Дэлхийн Хүнсний Хөтөлбөрийн гүйцэтгэх захирал Дэвид Бисли коронавирусийн цар тахлын улмаас дэлхий даяар 130 сая хүн өлсгөлөнд нэрвэгдэх төлөвтэй байгааг Мягмар гарагт мэдэгджээ.\"]\n",
        "r = predict_news(x)\n",
        "print (r)"
      ],
      "execution_count": 29,
      "outputs": [
        {
          "output_type": "stream",
          "text": [
            "Дэлхий\n"
          ],
          "name": "stdout"
        }
      ]
    },
    {
      "cell_type": "code",
      "metadata": {
        "id": "SwS645dDOykz",
        "colab_type": "code",
        "colab": {
          "base_uri": "https://localhost:8080/",
          "height": 34
        },
        "outputId": "731e6839-c207-430f-9bc7-49b7de556033"
      },
      "source": [
        "x = [\"Лозанн-2020 Залуучуудын өвлийн Олимпийн наадмын, Монголын баг тамирчид өрсөлдөж буй Гүйлтийн цанын 2 дахь уралдаан өчигдөр /01.19/ боллоо.\"]\n",
        "r = predict_news(x)\n",
        "print (r)"
      ],
      "execution_count": 30,
      "outputs": [
        {
          "output_type": "stream",
          "text": [
            "Спорт\n"
          ],
          "name": "stdout"
        }
      ]
    },
    {
      "cell_type": "code",
      "metadata": {
        "id": "1eRAo9WWPKJy",
        "colab_type": "code",
        "colab": {
          "base_uri": "https://localhost:8080/",
          "height": 34
        },
        "outputId": "98329fbd-bc01-41f3-e9f3-2b53c9e5be7f"
      },
      "source": [
        "x = [\"Монгол Улсын засаг захиргаа, нутаг дэвсгэрийн нэгж, түүний удирдлагын тухай хуулийн шинэчилсэн найруулгын төслийг УИХ-д өргөн барьсан талаараа УИХ-ын гишүүн Д.Тогтохсүрэн мэдээлэл хийлээ.\"]\n",
        "r = predict_news(x)\n",
        "print (r)"
      ],
      "execution_count": 31,
      "outputs": [
        {
          "output_type": "stream",
          "text": [
            "Улс төр\n"
          ],
          "name": "stdout"
        }
      ]
    }
  ]
}
