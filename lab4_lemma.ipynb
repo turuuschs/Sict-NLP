{
  "nbformat": 4,
  "nbformat_minor": 0,
  "metadata": {
    "colab": {
      "name": "NLP lab4.ipynb",
      "provenance": [],
      "collapsed_sections": [],
      "authorship_tag": "ABX9TyN4LxcdBmder0xCxD7LgvQp",
      "include_colab_link": true
    },
    "kernelspec": {
      "name": "python3",
      "display_name": "Python 3"
    }
  },
  "cells": [
    {
      "cell_type": "markdown",
      "metadata": {
        "id": "view-in-github",
        "colab_type": "text"
      },
      "source": [
        "<a href=\"https://colab.research.google.com/github/turuuschs/Sict-NLP/blob/master/lab4_lemma.ipynb\" target=\"_parent\"><img src=\"https://colab.research.google.com/assets/colab-badge.svg\" alt=\"Open In Colab\"/></a>"
      ]
    },
    {
      "cell_type": "markdown",
      "metadata": {
        "id": "NK_LLNgl-XOZ",
        "colab_type": "text"
      },
      "source": [
        "# NLTK сан"
      ]
    },
    {
      "cell_type": "code",
      "metadata": {
        "id": "rhJcDav0-R1G",
        "colab_type": "code",
        "outputId": "7a042077-110e-4abc-f3e5-b0ab9b025ce3",
        "colab": {
          "base_uri": "https://localhost:8080/",
          "height": 102
        }
      },
      "source": [
        "!pip install nltk\n",
        "import nltk\n",
        "from nltk import word_tokenize   \n",
        "from nltk.stem import WordNetLemmatizer\n",
        "nltk.download('punkt')"
      ],
      "execution_count": 10,
      "outputs": [
        {
          "output_type": "stream",
          "text": [
            "Requirement already satisfied: nltk in /usr/local/lib/python3.6/dist-packages (3.2.5)\n",
            "Requirement already satisfied: six in /usr/local/lib/python3.6/dist-packages (from nltk) (1.12.0)\n",
            "[nltk_data] Downloading package punkt to /root/nltk_data...\n",
            "[nltk_data]   Package punkt is already up-to-date!\n"
          ],
          "name": "stdout"
        },
        {
          "output_type": "execute_result",
          "data": {
            "text/plain": [
              "True"
            ]
          },
          "metadata": {
            "tags": []
          },
          "execution_count": 10
        }
      ]
    },
    {
      "cell_type": "markdown",
      "metadata": {
        "id": "yQSfuc0PCUXD",
        "colab_type": "text"
      },
      "source": [
        "## WordNetLemmatizer"
      ]
    },
    {
      "cell_type": "code",
      "metadata": {
        "id": "VCf6oaRL-gmC",
        "colab_type": "code",
        "outputId": "9c9bdb43-3fa6-4309-9bac-e79438196d03",
        "colab": {
          "base_uri": "https://localhost:8080/",
          "height": 408
        }
      },
      "source": [
        "lemmatizer = WordNetLemmatizer()\n",
        "text = \"He was running and eating at same time. He has bad habit of swimming after playing long hours in the Sun.\"\n",
        "for word in word_tokenize(text):\n",
        "  print (word, ':', lemmatizer.lemmatize(word, pos='v'))"
      ],
      "execution_count": 15,
      "outputs": [
        {
          "output_type": "stream",
          "text": [
            "He : He\n",
            "was : be\n",
            "running : run\n",
            "and : and\n",
            "eating : eat\n",
            "at : at\n",
            "same : same\n",
            "time : time\n",
            ". : .\n",
            "He : He\n",
            "has : have\n",
            "bad : bad\n",
            "habit : habit\n",
            "of : of\n",
            "swimming : swim\n",
            "after : after\n",
            "playing : play\n",
            "long : long\n",
            "hours : hours\n",
            "in : in\n",
            "the : the\n",
            "Sun : Sun\n",
            ". : .\n"
          ],
          "name": "stdout"
        }
      ]
    },
    {
      "cell_type": "code",
      "metadata": {
        "id": "1xfhBUkXBVpp",
        "colab_type": "code",
        "colab": {}
      },
      "source": [
        ""
      ],
      "execution_count": 0,
      "outputs": []
    }
  ]
}