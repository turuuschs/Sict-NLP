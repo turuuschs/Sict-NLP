{
  "nbformat": 4,
  "nbformat_minor": 0,
  "metadata": {
    "colab": {
      "name": "NLP lab3.ipynb",
      "provenance": [],
      "authorship_tag": "ABX9TyOz6nNSkhL3vrf8x6yFyJLZ",
      "include_colab_link": true
    },
    "kernelspec": {
      "name": "python3",
      "display_name": "Python 3"
    }
  },
  "cells": [
    {
      "cell_type": "markdown",
      "metadata": {
        "id": "view-in-github",
        "colab_type": "text"
      },
      "source": [
        "<a href=\"https://colab.research.google.com/github/turuuschs/Sict-NLP/blob/master/lab3_pos_tag.ipynb\" target=\"_parent\"><img src=\"https://colab.research.google.com/assets/colab-badge.svg\" alt=\"Open In Colab\"/></a>"
      ]
    },
    {
      "cell_type": "markdown",
      "metadata": {
        "id": "8lRt1Zlw8X_o",
        "colab_type": "text"
      },
      "source": [
        "NLTK сан"
      ]
    },
    {
      "cell_type": "code",
      "metadata": {
        "id": "4P75M8x-6POZ",
        "colab_type": "code",
        "colab": {
          "base_uri": "https://localhost:8080/",
          "height": 136
        },
        "outputId": "d2e89395-3b10-40c2-a25b-0af0ce73e78d"
      },
      "source": [
        "!pip install nltk\n",
        "import nltk\n",
        "nltk.download('punkt')\n",
        "nltk.download('averaged_perceptron_tagger')\n",
        "from nltk import word_tokenize    "
      ],
      "execution_count": 7,
      "outputs": [
        {
          "output_type": "stream",
          "text": [
            "Requirement already satisfied: nltk in /usr/local/lib/python3.6/dist-packages (3.2.5)\n",
            "Requirement already satisfied: six in /usr/local/lib/python3.6/dist-packages (from nltk) (1.12.0)\n",
            "[nltk_data] Downloading package punkt to /root/nltk_data...\n",
            "[nltk_data]   Package punkt is already up-to-date!\n",
            "[nltk_data] Downloading package averaged_perceptron_tagger to\n",
            "[nltk_data]     /root/nltk_data...\n",
            "[nltk_data]   Unzipping taggers/averaged_perceptron_tagger.zip.\n"
          ],
          "name": "stdout"
        }
      ]
    },
    {
      "cell_type": "markdown",
      "metadata": {
        "id": "pZqqhCFa8HCR",
        "colab_type": "text"
      },
      "source": [
        "## Penn Treebank\n",
        "### https://www.ling.upenn.edu/courses/Fall_2003/ling001/penn_treebank_pos.html NLTK хариуг шалгасан.\n"
      ]
    },
    {
      "cell_type": "code",
      "metadata": {
        "id": "YgmgpQ-D6hf3",
        "colab_type": "code",
        "colab": {
          "base_uri": "https://localhost:8080/",
          "height": 255
        },
        "outputId": "06b46bed-ec47-4306-e21d-148f249cc07e"
      },
      "source": [
        "text = word_tokenize(\"These young guys are playing checkers. I'm out there playing chess.\")\n",
        "nltk.pos_tag(text)"
      ],
      "execution_count": 9,
      "outputs": [
        {
          "output_type": "execute_result",
          "data": {
            "text/plain": [
              "[('These', 'DT'),\n",
              " ('young', 'JJ'),\n",
              " ('guys', 'NNS'),\n",
              " ('are', 'VBP'),\n",
              " ('playing', 'VBG'),\n",
              " ('checkers', 'NNS'),\n",
              " ('.', '.'),\n",
              " ('I', 'PRP'),\n",
              " (\"'m\", 'VBP'),\n",
              " ('out', 'IN'),\n",
              " ('there', 'RB'),\n",
              " ('playing', 'VBG'),\n",
              " ('chess', 'NN'),\n",
              " ('.', '.')]"
            ]
          },
          "metadata": {
            "tags": []
          },
          "execution_count": 9
        }
      ]
    }
  ]
}